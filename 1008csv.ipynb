{
  "nbformat": 4,
  "nbformat_minor": 0,
  "metadata": {
    "colab": {
      "name": "1008csv.ipynb",
      "provenance": [],
      "collapsed_sections": [],
      "include_colab_link": true
    },
    "kernelspec": {
      "name": "ir",
      "display_name": "R"
    }
  },
  "cells": [
    {
      "cell_type": "markdown",
      "metadata": {
        "id": "view-in-github",
        "colab_type": "text"
      },
      "source": [
        "<a href=\"https://colab.research.google.com/github/DanielBUBU/bigdata-class/blob/master/1008csv.ipynb\" target=\"_parent\"><img src=\"https://colab.research.google.com/assets/colab-badge.svg\" alt=\"Open In Colab\"/></a>"
      ]
    },
    {
      "cell_type": "code",
      "metadata": {
        "id": "yvuauAR4Tanp",
        "outputId": "400ecd1f-440f-4801-97e9-a39b7035484a",
        "colab": {
          "base_uri": "https://localhost:8080/",
          "height": 34
        }
      },
      "source": [
        "system(\"ls\",TRUE)"
      ],
      "execution_count": 2,
      "outputs": [
        {
          "output_type": "display_data",
          "data": {
            "text/plain": [
              "[1] \"20191203動物資料.csv\" \"sample_data\"         "
            ],
            "text/latex": "\\begin{enumerate*}\n\\item '20191203動物資料.csv'\n\\item 'sample\\_data'\n\\end{enumerate*}\n",
            "text/markdown": "1. '20191203動物資料.csv'\n2. 'sample_data'\n\n\n",
            "text/html": [
              "<style>\n",
              ".list-inline {list-style: none; margin:0; padding: 0}\n",
              ".list-inline>li {display: inline-block}\n",
              ".list-inline>li:not(:last-child)::after {content: \"\\00b7\"; padding: 0 .5ex}\n",
              "</style>\n",
              "<ol class=list-inline><li>'20191203動物資料.csv'</li><li>'sample_data'</li></ol>\n"
            ]
          },
          "metadata": {
            "tags": []
          }
        }
      ]
    },
    {
      "cell_type": "code",
      "metadata": {
        "id": "yiw89YaKYCGK"
      },
      "source": [
        "library(readr)"
      ],
      "execution_count": 3,
      "outputs": []
    },
    {
      "cell_type": "code",
      "metadata": {
        "id": "qDOMJ_gYYHhm"
      },
      "source": [
        "dataset <- read.csv(\"20191203動物資料.csv\")"
      ],
      "execution_count": 4,
      "outputs": []
    },
    {
      "cell_type": "code",
      "metadata": {
        "id": "kL7fz3HyYT9R"
      },
      "source": [
        "dataset"
      ],
      "execution_count": null,
      "outputs": []
    },
    {
      "cell_type": "code",
      "metadata": {
        "id": "QaNXNyifcjl0",
        "outputId": "00a8ea1e-79ee-4ebc-c40f-3e782e233e74",
        "colab": {
          "base_uri": "https://localhost:8080/",
          "height": 50
        }
      },
      "source": [
        "head(dataset$A_Name_Ch,n=20)"
      ],
      "execution_count": 11,
      "outputs": [
        {
          "output_type": "display_data",
          "data": {
            "text/plain": [
              " [1] \"大貓熊\"     \"國王企鵝\"   \"黑腳企鵝\"   \"弓角羚羊\"   \"非洲野驢\"  \n",
              " [6] \"單峰駱駝\"   \"雙峰駱駝\"   \"人猿\"       \"大長臂猿\"   \"印度大犀鳥\"\n",
              "[11] \"亞洲象\"     \"孟加拉虎\"   \"花豹\"       \"馬來熊\"     \"馬來貘\"    \n",
              "[16] \"黑天鵝\"     \"白手長臂猿\" \"家鴨\"       \"家雞\"       \"家鵝\"      "
            ],
            "text/latex": "\\begin{enumerate*}\n\\item '大貓熊'\n\\item '國王企鵝'\n\\item '黑腳企鵝'\n\\item '弓角羚羊'\n\\item '非洲野驢'\n\\item '單峰駱駝'\n\\item '雙峰駱駝'\n\\item '人猿'\n\\item '大長臂猿'\n\\item '印度大犀鳥'\n\\item '亞洲象'\n\\item '孟加拉虎'\n\\item '花豹'\n\\item '馬來熊'\n\\item '馬來貘'\n\\item '黑天鵝'\n\\item '白手長臂猿'\n\\item '家鴨'\n\\item '家雞'\n\\item '家鵝'\n\\end{enumerate*}\n",
            "text/markdown": "1. '大貓熊'\n2. '國王企鵝'\n3. '黑腳企鵝'\n4. '弓角羚羊'\n5. '非洲野驢'\n6. '單峰駱駝'\n7. '雙峰駱駝'\n8. '人猿'\n9. '大長臂猿'\n10. '印度大犀鳥'\n11. '亞洲象'\n12. '孟加拉虎'\n13. '花豹'\n14. '馬來熊'\n15. '馬來貘'\n16. '黑天鵝'\n17. '白手長臂猿'\n18. '家鴨'\n19. '家雞'\n20. '家鵝'\n\n\n",
            "text/html": [
              "<style>\n",
              ".list-inline {list-style: none; margin:0; padding: 0}\n",
              ".list-inline>li {display: inline-block}\n",
              ".list-inline>li:not(:last-child)::after {content: \"\\00b7\"; padding: 0 .5ex}\n",
              "</style>\n",
              "<ol class=list-inline><li>'大貓熊'</li><li>'國王企鵝'</li><li>'黑腳企鵝'</li><li>'弓角羚羊'</li><li>'非洲野驢'</li><li>'單峰駱駝'</li><li>'雙峰駱駝'</li><li>'人猿'</li><li>'大長臂猿'</li><li>'印度大犀鳥'</li><li>'亞洲象'</li><li>'孟加拉虎'</li><li>'花豹'</li><li>'馬來熊'</li><li>'馬來貘'</li><li>'黑天鵝'</li><li>'白手長臂猿'</li><li>'家鴨'</li><li>'家雞'</li><li>'家鵝'</li></ol>\n"
            ]
          },
          "metadata": {
            "tags": []
          }
        }
      ]
    },
    {
      "cell_type": "code",
      "metadata": {
        "id": "uqj5s4MYcxqw",
        "outputId": "950d9b9d-e19e-4bbe-b824-981288bfa3e5",
        "colab": {
          "base_uri": "https://localhost:8080/",
          "height": 50
        }
      },
      "source": [
        "tail(dataset$A_Name_Ch,n=20)"
      ],
      "execution_count": 12,
      "outputs": [
        {
          "output_type": "display_data",
          "data": {
            "text/plain": [
              " [1] \"水豚\"         \"大食蟻獸\"     \"南美小食蟻獸\" \"白面捲尾猴\"   \"紅藍吸蜜鸚鵡\"\n",
              " [6] \"黃腿象龜\"     \"棕蜘蛛猴\"     \"二趾樹獺\"     \"慈鯛\"         \"珍珠魟\"      \n",
              "[11] \"棉頭絹猴\"     \"阿氏夜猴\"     \"小懶猴\"       \"粗尾侏儒狐猴\" \"蜜熊(未展出)\"\n",
              "[16] \"金色箭毒蛙\"   \"黃帶箭毒蛙\"   \"迷彩箭毒蛙\"   \"鈷藍箭毒蛙\"   \"象魚\"        "
            ],
            "text/latex": "\\begin{enumerate*}\n\\item '水豚'\n\\item '大食蟻獸'\n\\item '南美小食蟻獸'\n\\item '白面捲尾猴'\n\\item '紅藍吸蜜鸚鵡'\n\\item '黃腿象龜'\n\\item '棕蜘蛛猴'\n\\item '二趾樹獺'\n\\item '慈鯛'\n\\item '珍珠魟'\n\\item '棉頭絹猴'\n\\item '阿氏夜猴'\n\\item '小懶猴'\n\\item '粗尾侏儒狐猴'\n\\item '蜜熊(未展出)'\n\\item '金色箭毒蛙'\n\\item '黃帶箭毒蛙'\n\\item '迷彩箭毒蛙'\n\\item '鈷藍箭毒蛙'\n\\item '象魚'\n\\end{enumerate*}\n",
            "text/markdown": "1. '水豚'\n2. '大食蟻獸'\n3. '南美小食蟻獸'\n4. '白面捲尾猴'\n5. '紅藍吸蜜鸚鵡'\n6. '黃腿象龜'\n7. '棕蜘蛛猴'\n8. '二趾樹獺'\n9. '慈鯛'\n10. '珍珠魟'\n11. '棉頭絹猴'\n12. '阿氏夜猴'\n13. '小懶猴'\n14. '粗尾侏儒狐猴'\n15. '蜜熊(未展出)'\n16. '金色箭毒蛙'\n17. '黃帶箭毒蛙'\n18. '迷彩箭毒蛙'\n19. '鈷藍箭毒蛙'\n20. '象魚'\n\n\n",
            "text/html": [
              "<style>\n",
              ".list-inline {list-style: none; margin:0; padding: 0}\n",
              ".list-inline>li {display: inline-block}\n",
              ".list-inline>li:not(:last-child)::after {content: \"\\00b7\"; padding: 0 .5ex}\n",
              "</style>\n",
              "<ol class=list-inline><li>'水豚'</li><li>'大食蟻獸'</li><li>'南美小食蟻獸'</li><li>'白面捲尾猴'</li><li>'紅藍吸蜜鸚鵡'</li><li>'黃腿象龜'</li><li>'棕蜘蛛猴'</li><li>'二趾樹獺'</li><li>'慈鯛'</li><li>'珍珠魟'</li><li>'棉頭絹猴'</li><li>'阿氏夜猴'</li><li>'小懶猴'</li><li>'粗尾侏儒狐猴'</li><li>'蜜熊(未展出)'</li><li>'金色箭毒蛙'</li><li>'黃帶箭毒蛙'</li><li>'迷彩箭毒蛙'</li><li>'鈷藍箭毒蛙'</li><li>'象魚'</li></ol>\n"
            ]
          },
          "metadata": {
            "tags": []
          }
        }
      ]
    },
    {
      "cell_type": "code",
      "metadata": {
        "id": "Z6IU_X5yc0HB",
        "outputId": "058febdc-bcf4-48ed-c0c3-aff5a55cf20f",
        "colab": {
          "base_uri": "https://localhost:8080/",
          "height": 149
        }
      },
      "source": [
        "dataset[grepl(\"國王企鵝\",dataset$A_Name_Ch),]"
      ],
      "execution_count": 8,
      "outputs": [
        {
          "output_type": "display_data",
          "data": {
            "text/plain": [
              "  A_Name_Ch A_Summary A_Keywords     A_AlsoKnown\n",
              "2 國王企鵝            企鵝；國王企鵝            \n",
              "  A_Geo                                 A_Location A_POIGroup A_Name_En   \n",
              "2 MULTIPOINT ((121.5907654 24.9931338)) 企鵝館                King Penguin\n",
              "  A_Name_Latin            A_Phylum   ⋯ A_pdf02_URL A_Voice01_ALT A_Voice01_URL\n",
              "2 Aptenodytes patagonicus 脊索動物門 ⋯                                        \n",
              "  A_Voice02_ALT A_Voice02_URL A_Voice03_ALT A_Voice03_URL\n",
              "2                                                        \n",
              "  A_Vedio_URL                                                             \n",
              "2 https://www.youtube.com/playlist?list=PLWYak5Af5-DuSoWNgHVIi8vH8AlN6Rzg4\n",
              "  A_Update  A_CID\n",
              "2 2017/9/29 2    "
            ],
            "text/latex": "A data.frame: 1 × 46\n\\begin{tabular}{r|lllllllllllllllllllll}\n  & A\\_Name\\_Ch & A\\_Summary & A\\_Keywords & A\\_AlsoKnown & A\\_Geo & A\\_Location & A\\_POIGroup & A\\_Name\\_En & A\\_Name\\_Latin & A\\_Phylum & ⋯ & A\\_pdf02\\_URL & A\\_Voice01\\_ALT & A\\_Voice01\\_URL & A\\_Voice02\\_ALT & A\\_Voice02\\_URL & A\\_Voice03\\_ALT & A\\_Voice03\\_URL & A\\_Vedio\\_URL & A\\_Update & A\\_CID\\\\\n  & <chr> & <chr> & <chr> & <chr> & <chr> & <chr> & <chr> & <chr> & <chr> & <chr> & ⋯ & <chr> & <chr> & <chr> & <chr> & <chr> & <chr> & <chr> & <chr> & <chr> & <int>\\\\\n\\hline\n\t2 & 國王企鵝 &  & 企鵝；國王企鵝 &  & MULTIPOINT ((121.5907654 24.9931338)) & 企鵝館 &  & King Penguin & Aptenodytes patagonicus & 脊索動物門 & ⋯ &  &  &  &  &  &  &  & https://www.youtube.com/playlist?list=PLWYak5Af5-DuSoWNgHVIi8vH8AlN6Rzg4 & 2017/9/29 & 2\\\\\n\\end{tabular}\n",
            "text/markdown": "\nA data.frame: 1 × 46\n\n| <!--/--> | A_Name_Ch &lt;chr&gt; | A_Summary &lt;chr&gt; | A_Keywords &lt;chr&gt; | A_AlsoKnown &lt;chr&gt; | A_Geo &lt;chr&gt; | A_Location &lt;chr&gt; | A_POIGroup &lt;chr&gt; | A_Name_En &lt;chr&gt; | A_Name_Latin &lt;chr&gt; | A_Phylum &lt;chr&gt; | ⋯ ⋯ | A_pdf02_URL &lt;chr&gt; | A_Voice01_ALT &lt;chr&gt; | A_Voice01_URL &lt;chr&gt; | A_Voice02_ALT &lt;chr&gt; | A_Voice02_URL &lt;chr&gt; | A_Voice03_ALT &lt;chr&gt; | A_Voice03_URL &lt;chr&gt; | A_Vedio_URL &lt;chr&gt; | A_Update &lt;chr&gt; | A_CID &lt;int&gt; |\n|---|---|---|---|---|---|---|---|---|---|---|---|---|---|---|---|---|---|---|---|---|---|\n| 2 | 國王企鵝 | <!----> | 企鵝；國王企鵝 | <!----> | MULTIPOINT ((121.5907654 24.9931338)) | 企鵝館 | <!----> | King Penguin | Aptenodytes patagonicus | 脊索動物門 | ⋯ | <!----> | <!----> | <!----> | <!----> | <!----> | <!----> | <!----> | https://www.youtube.com/playlist?list=PLWYak5Af5-DuSoWNgHVIi8vH8AlN6Rzg4 | 2017/9/29 | 2 |\n\n",
            "text/html": [
              "<table>\n",
              "<caption>A data.frame: 1 × 46</caption>\n",
              "<thead>\n",
              "\t<tr><th></th><th scope=col>A_Name_Ch</th><th scope=col>A_Summary</th><th scope=col>A_Keywords</th><th scope=col>A_AlsoKnown</th><th scope=col>A_Geo</th><th scope=col>A_Location</th><th scope=col>A_POIGroup</th><th scope=col>A_Name_En</th><th scope=col>A_Name_Latin</th><th scope=col>A_Phylum</th><th scope=col>⋯</th><th scope=col>A_pdf02_URL</th><th scope=col>A_Voice01_ALT</th><th scope=col>A_Voice01_URL</th><th scope=col>A_Voice02_ALT</th><th scope=col>A_Voice02_URL</th><th scope=col>A_Voice03_ALT</th><th scope=col>A_Voice03_URL</th><th scope=col>A_Vedio_URL</th><th scope=col>A_Update</th><th scope=col>A_CID</th></tr>\n",
              "\t<tr><th></th><th scope=col>&lt;chr&gt;</th><th scope=col>&lt;chr&gt;</th><th scope=col>&lt;chr&gt;</th><th scope=col>&lt;chr&gt;</th><th scope=col>&lt;chr&gt;</th><th scope=col>&lt;chr&gt;</th><th scope=col>&lt;chr&gt;</th><th scope=col>&lt;chr&gt;</th><th scope=col>&lt;chr&gt;</th><th scope=col>&lt;chr&gt;</th><th scope=col>⋯</th><th scope=col>&lt;chr&gt;</th><th scope=col>&lt;chr&gt;</th><th scope=col>&lt;chr&gt;</th><th scope=col>&lt;chr&gt;</th><th scope=col>&lt;chr&gt;</th><th scope=col>&lt;chr&gt;</th><th scope=col>&lt;chr&gt;</th><th scope=col>&lt;chr&gt;</th><th scope=col>&lt;chr&gt;</th><th scope=col>&lt;int&gt;</th></tr>\n",
              "</thead>\n",
              "<tbody>\n",
              "\t<tr><th scope=row>2</th><td>國王企鵝</td><td></td><td>企鵝；國王企鵝</td><td></td><td>MULTIPOINT ((121.5907654 24.9931338))</td><td>企鵝館</td><td></td><td>King Penguin</td><td>Aptenodytes patagonicus</td><td>脊索動物門</td><td>⋯</td><td></td><td></td><td></td><td></td><td></td><td></td><td></td><td>https://www.youtube.com/playlist?list=PLWYak5Af5-DuSoWNgHVIi8vH8AlN6Rzg4</td><td>2017/9/29</td><td>2</td></tr>\n",
              "</tbody>\n",
              "</table>\n"
            ]
          },
          "metadata": {
            "tags": []
          }
        }
      ]
    },
    {
      "cell_type": "code",
      "metadata": {
        "id": "UKi25n7ddISA",
        "outputId": "310a589b-3db9-4f40-e57c-7cacd9084c8d",
        "colab": {
          "base_uri": "https://localhost:8080/",
          "height": 326
        }
      },
      "source": [
        "dataset[grepl(\"箭毒蛙\",dataset$A_Name_Ch),]"
      ],
      "execution_count": 10,
      "outputs": [
        {
          "output_type": "display_data",
          "data": {
            "text/plain": [
              "    A_Name_Ch  A_Summary A_Keywords A_AlsoKnown\n",
              "360 金色箭毒蛙                                 \n",
              "361 黃帶箭毒蛙                                 \n",
              "362 迷彩箭毒蛙                                 \n",
              "363 鈷藍箭毒蛙                                 \n",
              "    A_Geo                                 A_Location               A_POIGroup\n",
              "360 MULTIPOINT ((121.5832747 24.9958021)) 熱帶雨林室內館(穿山甲館)           \n",
              "361 MULTIPOINT ((121.5832747 24.9958021)) 熱帶雨林室內館(穿山甲館)           \n",
              "362 MULTIPOINT ((121.5832747 24.9958021)) 熱帶雨林室內館(穿山甲館)           \n",
              "363 MULTIPOINT ((121.5832747 24.9958021)) 熱帶雨林室內館(穿山甲館)           \n",
              "    A_Name_En                         A_Name_Latin           A_Phylum    ⋯\n",
              "360 Golden Poison Frog                Phyllobates terribilis ?脊索動物門 ⋯\n",
              "361 Yellow-headed Poison Frog         Dendrobates leucomelas 脊索動物門  ⋯\n",
              "362 Green and Black Poison-arrow Frog Dendrobates auratus    脊索動物門  ⋯\n",
              "363 Dyeing Poison-arrow Frog          Dendrobates tinctorius 脊索動物門  ⋯\n",
              "    A_pdf02_URL A_Voice01_ALT A_Voice01_URL A_Voice02_ALT A_Voice02_URL\n",
              "360                                                                    \n",
              "361                                                                    \n",
              "362                                                                    \n",
              "363                                                                    \n",
              "    A_Voice03_ALT A_Voice03_URL A_Vedio_URL A_Update A_CID\n",
              "360                                                  NA   \n",
              "361                                                  NA   \n",
              "362                                                  NA   \n",
              "363                                                  NA   "
            ],
            "text/latex": "A data.frame: 4 × 46\n\\begin{tabular}{r|lllllllllllllllllllll}\n  & A\\_Name\\_Ch & A\\_Summary & A\\_Keywords & A\\_AlsoKnown & A\\_Geo & A\\_Location & A\\_POIGroup & A\\_Name\\_En & A\\_Name\\_Latin & A\\_Phylum & ⋯ & A\\_pdf02\\_URL & A\\_Voice01\\_ALT & A\\_Voice01\\_URL & A\\_Voice02\\_ALT & A\\_Voice02\\_URL & A\\_Voice03\\_ALT & A\\_Voice03\\_URL & A\\_Vedio\\_URL & A\\_Update & A\\_CID\\\\\n  & <chr> & <chr> & <chr> & <chr> & <chr> & <chr> & <chr> & <chr> & <chr> & <chr> & ⋯ & <chr> & <chr> & <chr> & <chr> & <chr> & <chr> & <chr> & <chr> & <chr> & <int>\\\\\n\\hline\n\t360 & 金色箭毒蛙 &  &  &  & MULTIPOINT ((121.5832747 24.9958021)) & 熱帶雨林室內館(穿山甲館) &  & Golden Poison Frog                & Phyllobates terribilis & ?脊索動物門 & ⋯ &  &  &  &  &  &  &  &  &  & NA\\\\\n\t361 & 黃帶箭毒蛙 &  &  &  & MULTIPOINT ((121.5832747 24.9958021)) & 熱帶雨林室內館(穿山甲館) &  & Yellow-headed Poison Frog         & Dendrobates leucomelas & 脊索動物門  & ⋯ &  &  &  &  &  &  &  &  &  & NA\\\\\n\t362 & 迷彩箭毒蛙 &  &  &  & MULTIPOINT ((121.5832747 24.9958021)) & 熱帶雨林室內館(穿山甲館) &  & Green and Black Poison-arrow Frog & Dendrobates auratus    & 脊索動物門  & ⋯ &  &  &  &  &  &  &  &  &  & NA\\\\\n\t363 & 鈷藍箭毒蛙 &  &  &  & MULTIPOINT ((121.5832747 24.9958021)) & 熱帶雨林室內館(穿山甲館) &  & Dyeing Poison-arrow Frog          & Dendrobates tinctorius & 脊索動物門  & ⋯ &  &  &  &  &  &  &  &  &  & NA\\\\\n\\end{tabular}\n",
            "text/markdown": "\nA data.frame: 4 × 46\n\n| <!--/--> | A_Name_Ch &lt;chr&gt; | A_Summary &lt;chr&gt; | A_Keywords &lt;chr&gt; | A_AlsoKnown &lt;chr&gt; | A_Geo &lt;chr&gt; | A_Location &lt;chr&gt; | A_POIGroup &lt;chr&gt; | A_Name_En &lt;chr&gt; | A_Name_Latin &lt;chr&gt; | A_Phylum &lt;chr&gt; | ⋯ ⋯ | A_pdf02_URL &lt;chr&gt; | A_Voice01_ALT &lt;chr&gt; | A_Voice01_URL &lt;chr&gt; | A_Voice02_ALT &lt;chr&gt; | A_Voice02_URL &lt;chr&gt; | A_Voice03_ALT &lt;chr&gt; | A_Voice03_URL &lt;chr&gt; | A_Vedio_URL &lt;chr&gt; | A_Update &lt;chr&gt; | A_CID &lt;int&gt; |\n|---|---|---|---|---|---|---|---|---|---|---|---|---|---|---|---|---|---|---|---|---|---|\n| 360 | 金色箭毒蛙 | <!----> | <!----> | <!----> | MULTIPOINT ((121.5832747 24.9958021)) | 熱帶雨林室內館(穿山甲館) | <!----> | Golden Poison Frog                | Phyllobates terribilis | ?脊索動物門 | ⋯ | <!----> | <!----> | <!----> | <!----> | <!----> | <!----> | <!----> | <!----> | <!----> | NA |\n| 361 | 黃帶箭毒蛙 | <!----> | <!----> | <!----> | MULTIPOINT ((121.5832747 24.9958021)) | 熱帶雨林室內館(穿山甲館) | <!----> | Yellow-headed Poison Frog         | Dendrobates leucomelas | 脊索動物門  | ⋯ | <!----> | <!----> | <!----> | <!----> | <!----> | <!----> | <!----> | <!----> | <!----> | NA |\n| 362 | 迷彩箭毒蛙 | <!----> | <!----> | <!----> | MULTIPOINT ((121.5832747 24.9958021)) | 熱帶雨林室內館(穿山甲館) | <!----> | Green and Black Poison-arrow Frog | Dendrobates auratus    | 脊索動物門  | ⋯ | <!----> | <!----> | <!----> | <!----> | <!----> | <!----> | <!----> | <!----> | <!----> | NA |\n| 363 | 鈷藍箭毒蛙 | <!----> | <!----> | <!----> | MULTIPOINT ((121.5832747 24.9958021)) | 熱帶雨林室內館(穿山甲館) | <!----> | Dyeing Poison-arrow Frog          | Dendrobates tinctorius | 脊索動物門  | ⋯ | <!----> | <!----> | <!----> | <!----> | <!----> | <!----> | <!----> | <!----> | <!----> | NA |\n\n",
            "text/html": [
              "<table>\n",
              "<caption>A data.frame: 4 × 46</caption>\n",
              "<thead>\n",
              "\t<tr><th></th><th scope=col>A_Name_Ch</th><th scope=col>A_Summary</th><th scope=col>A_Keywords</th><th scope=col>A_AlsoKnown</th><th scope=col>A_Geo</th><th scope=col>A_Location</th><th scope=col>A_POIGroup</th><th scope=col>A_Name_En</th><th scope=col>A_Name_Latin</th><th scope=col>A_Phylum</th><th scope=col>⋯</th><th scope=col>A_pdf02_URL</th><th scope=col>A_Voice01_ALT</th><th scope=col>A_Voice01_URL</th><th scope=col>A_Voice02_ALT</th><th scope=col>A_Voice02_URL</th><th scope=col>A_Voice03_ALT</th><th scope=col>A_Voice03_URL</th><th scope=col>A_Vedio_URL</th><th scope=col>A_Update</th><th scope=col>A_CID</th></tr>\n",
              "\t<tr><th></th><th scope=col>&lt;chr&gt;</th><th scope=col>&lt;chr&gt;</th><th scope=col>&lt;chr&gt;</th><th scope=col>&lt;chr&gt;</th><th scope=col>&lt;chr&gt;</th><th scope=col>&lt;chr&gt;</th><th scope=col>&lt;chr&gt;</th><th scope=col>&lt;chr&gt;</th><th scope=col>&lt;chr&gt;</th><th scope=col>&lt;chr&gt;</th><th scope=col>⋯</th><th scope=col>&lt;chr&gt;</th><th scope=col>&lt;chr&gt;</th><th scope=col>&lt;chr&gt;</th><th scope=col>&lt;chr&gt;</th><th scope=col>&lt;chr&gt;</th><th scope=col>&lt;chr&gt;</th><th scope=col>&lt;chr&gt;</th><th scope=col>&lt;chr&gt;</th><th scope=col>&lt;chr&gt;</th><th scope=col>&lt;int&gt;</th></tr>\n",
              "</thead>\n",
              "<tbody>\n",
              "\t<tr><th scope=row>360</th><td>金色箭毒蛙</td><td></td><td></td><td></td><td>MULTIPOINT ((121.5832747 24.9958021))</td><td>熱帶雨林室內館(穿山甲館)</td><td></td><td>Golden Poison Frog               </td><td>Phyllobates terribilis</td><td>?脊索動物門</td><td>⋯</td><td></td><td></td><td></td><td></td><td></td><td></td><td></td><td></td><td></td><td>NA</td></tr>\n",
              "\t<tr><th scope=row>361</th><td>黃帶箭毒蛙</td><td></td><td></td><td></td><td>MULTIPOINT ((121.5832747 24.9958021))</td><td>熱帶雨林室內館(穿山甲館)</td><td></td><td>Yellow-headed Poison Frog        </td><td>Dendrobates leucomelas</td><td>脊索動物門 </td><td>⋯</td><td></td><td></td><td></td><td></td><td></td><td></td><td></td><td></td><td></td><td>NA</td></tr>\n",
              "\t<tr><th scope=row>362</th><td>迷彩箭毒蛙</td><td></td><td></td><td></td><td>MULTIPOINT ((121.5832747 24.9958021))</td><td>熱帶雨林室內館(穿山甲館)</td><td></td><td>Green and Black Poison-arrow Frog</td><td>Dendrobates auratus   </td><td>脊索動物門 </td><td>⋯</td><td></td><td></td><td></td><td></td><td></td><td></td><td></td><td></td><td></td><td>NA</td></tr>\n",
              "\t<tr><th scope=row>363</th><td>鈷藍箭毒蛙</td><td></td><td></td><td></td><td>MULTIPOINT ((121.5832747 24.9958021))</td><td>熱帶雨林室內館(穿山甲館)</td><td></td><td>Dyeing Poison-arrow Frog         </td><td>Dendrobates tinctorius</td><td>脊索動物門 </td><td>⋯</td><td></td><td></td><td></td><td></td><td></td><td></td><td></td><td></td><td></td><td>NA</td></tr>\n",
              "</tbody>\n",
              "</table>\n"
            ]
          },
          "metadata": {
            "tags": []
          }
        }
      ]
    },
    {
      "cell_type": "code",
      "metadata": {
        "id": "Qzr4pIpEg8BC",
        "outputId": "cc2c405f-9b83-4def-84e1-2705829829d6",
        "colab": {
          "base_uri": "https://localhost:8080/",
          "height": 67
        }
      },
      "source": [
        "install.packages(\"jsonlite\")"
      ],
      "execution_count": 14,
      "outputs": [
        {
          "output_type": "stream",
          "text": [
            "Installing package into ‘/usr/local/lib/R/site-library’\n",
            "(as ‘lib’ is unspecified)\n",
            "\n"
          ],
          "name": "stderr"
        }
      ]
    },
    {
      "cell_type": "code",
      "metadata": {
        "id": "UpX0MkF5hEiW"
      },
      "source": [
        "library(\"jsonlite\")"
      ],
      "execution_count": 17,
      "outputs": []
    },
    {
      "cell_type": "code",
      "metadata": {
        "id": "ORk8lK_YhJQ3",
        "outputId": "253eb27e-3f6c-4949-a401-99710686aac6",
        "colab": {
          "base_uri": "https://localhost:8080/",
          "height": 490
        }
      },
      "source": [
        "Petdata<-jsonlite::fromJSON(\"https://data.taipei/opendata/datalist/apiAccess?scope=resourceAquire&rid=f4a75ba9-7721-4363-884d-c3820b0b917c\")\n",
        "str(Petdata)"
      ],
      "execution_count": 18,
      "outputs": [
        {
          "output_type": "stream",
          "text": [
            "List of 1\n",
            " $ result:List of 5\n",
            "  ..$ limit  : int 1000\n",
            "  ..$ offset : int 0\n",
            "  ..$ count  : int 365\n",
            "  ..$ sort   : chr \"\"\n",
            "  ..$ results:'data.frame':\t365 obs. of  20 variables:\n",
            "  .. ..$ AcceptNum      : chr [1:365] \"106060601\" \"106060401\" \"106060210\" \"106060207\" ...\n",
            "  .. ..$ IsSterilization: chr [1:365] \"未絕育\" \"已絕育\" \"未絕育\" \"未絕育\" ...\n",
            "  .. ..$ Name           : chr [1:365] \"\" \"\" \"俊俊\" \"小莊\" ...\n",
            "  .. ..$ Variety        : chr [1:365] \"米克斯\" \"米克斯\" \"米克斯\" \"米克斯\" ...\n",
            "  .. ..$ Age            : chr [1:365] \"成年\" \"成年\" \"成年\" \"成年\" ...\n",
            "  .. ..$ ChildreAnlong  : chr [1:365] \"\" \"\" \"\" \"\" ...\n",
            "  .. ..$ Resettlement   : chr [1:365] \"臺北市動物之家 收容編號106060601\" \"\" \"臺北市動物之家 收容編號106060210\" \"臺北市動物之家 收容編號106060207\" ...\n",
            "  .. ..$ Sex            : chr [1:365] \"雄\" \"雌\" \"雄\" \"雄\" ...\n",
            "  .. ..$ Note           : chr [1:365] \"左剪耳 輕微脫水 精神食慾不佳\" \"\" \"嗨~~我的名字叫俊俊，希望帥氣的我可以受您的青睞，快來動物之家看看我吧!\\n\" \"哈囉~我的名字叫小莊，目前我在動物之家生活，希望能快快找到，願意認養我的人來帶我回家!!\\n\" ...\n",
            "  .. ..$ Phone          : chr [1:365] \"02-87913063\" \"\" \"02-87913062\" \"02-87913062\" ...\n",
            "  .. ..$ Reason         : chr [1:365] \"民眾不擬續養\" \"民眾不擬續養\" \"動物管制\" \"動物管制\" ...\n",
            "  .. ..$ ImageName      : chr [1:365] \"http://163.29.39.183/uploads/images/medium/c0f66294-143c-4406-8714-2e6764352b13.jpg\" \"http://163.29.39.183/uploads/images/medium/4ffa231f-3108-43c1-8ccf-b8578bdf1e1a.jpg\" \"http://163.29.39.183/uploads/images/medium/e68771df-747e-4544-846a-bdd6099e7f90.jpg\" \"http://163.29.39.183/uploads/images/medium/fd75d049-5310-4016-b1f4-71d69c4a9912.jpg\" ...\n",
            "  .. ..$ HairType       : chr [1:365] \"虎斑白\" \"黃白\" \"黃白\" \"黃\" ...\n",
            "  .. ..$ Build          : chr [1:365] \"中\" \"中\" \"中\" \"中\" ...\n",
            "  .. ..$ AnimalAnlong   : chr [1:365] \"\" \"\" \"\" \"\" ...\n",
            "  .. ..$ ChipNum        : chr [1:365] \"900073000086900\" \"900073000086481\" \"\" \"\" ...\n",
            "  .. ..$ _id            : int [1:365] 1 2 3 4 5 6 7 8 9 10 ...\n",
            "  .. ..$ Type           : chr [1:365] \"貓\" \"貓\" \"貓\" \"貓\" ...\n",
            "  .. ..$ Email          : chr [1:365] \"tcapoa8@mail.taipei.gov.tw\" \"\" \"tcapoa8@mail.taipei.gov.tw\" \"tcapoa8@mail.taipei.gov.tw\" ...\n",
            "  .. ..$ Bodyweight     : chr [1:365] \"\" \"\" \"\" \"\" ...\n"
          ],
          "name": "stdout"
        }
      ]
    },
    {
      "cell_type": "code",
      "metadata": {
        "id": "byrZc5bvhbcn",
        "outputId": "c12c9aab-a1fc-454a-d614-661a370f742b",
        "colab": {
          "base_uri": "https://localhost:8080/",
          "height": 1000
        }
      },
      "source": [
        "head(Petdata$result$results)"
      ],
      "execution_count": 19,
      "outputs": [
        {
          "output_type": "display_data",
          "data": {
            "text/plain": [
              "  AcceptNum IsSterilization Name Variety Age  ChildreAnlong\n",
              "1 106060601 未絕育               米克斯  成年              \n",
              "2 106060401 已絕育               米克斯  成年              \n",
              "3 106060210 未絕育          俊俊 米克斯  成年              \n",
              "4 106060207 未絕育          小莊 米克斯  成年              \n",
              "5 106060203 未絕育          好橙 米克斯  成年              \n",
              "6 106053107 未絕育          歐雅 米克斯  年輕              \n",
              "  Resettlement                     Sex\n",
              "1 臺北市動物之家 收容編號106060601 雄 \n",
              "2                                  雌 \n",
              "3 臺北市動物之家 收容編號106060210 雄 \n",
              "4 臺北市動物之家 收容編號106060207 雄 \n",
              "5 臺北市動物之家 收容編號106060203 雄 \n",
              "6 臺北市動物之家 收容編號106053107 雌 \n",
              "  Note                                                                                   \n",
              "1 左剪耳 輕微脫水 精神食慾不佳                                                           \n",
              "2                                                                                        \n",
              "3 嗨~~我的名字叫俊俊，希望帥氣的我可以受您的青睞，快來動物之家看看我吧!\\n                \n",
              "4 哈囉~我的名字叫小莊，目前我在動物之家生活，希望能快快找到，願意認養我的人來帶我回家!!\\n\n",
              "5 嗨~我的名字叫好橙，害羞的我想要一個溫暖的家，您可以給我這個機會嗎?\\n                   \n",
              "6 大家好~我的名字叫歐雅，我的個性緊張，想帶我回家，要有耐心陪伴我渡過適應期唷!           \n",
              "  Phone       Reason      \n",
              "1 02-87913063 民眾不擬續養\n",
              "2             民眾不擬續養\n",
              "3 02-87913062 動物管制    \n",
              "4 02-87913062 動物管制    \n",
              "5 02-87913062 動物管制    \n",
              "6 02-87913062 動物管制    \n",
              "  ImageName                                                                          \n",
              "1 http://163.29.39.183/uploads/images/medium/c0f66294-143c-4406-8714-2e6764352b13.jpg\n",
              "2 http://163.29.39.183/uploads/images/medium/4ffa231f-3108-43c1-8ccf-b8578bdf1e1a.jpg\n",
              "3 http://163.29.39.183/uploads/images/medium/e68771df-747e-4544-846a-bdd6099e7f90.jpg\n",
              "4 http://163.29.39.183/uploads/images/medium/fd75d049-5310-4016-b1f4-71d69c4a9912.jpg\n",
              "5 http://163.29.39.183/uploads/images/medium/2f750fef-b696-4595-8fbf-cc6adf8f72d5.jpg\n",
              "6 http://163.29.39.183/uploads/images/medium/1c293e5e-99db-466e-a156-ff33fef368b4.jpg\n",
              "  HairType Build AnimalAnlong ChipNum         _id Type\n",
              "1 虎斑白   中                 900073000086900 1   貓  \n",
              "2 黃白     中                 900073000086481 2   貓  \n",
              "3 黃白     中                                 3   貓  \n",
              "4 黃       中                                 4   貓  \n",
              "5 黃       中                                 5   貓  \n",
              "6 黑       中                                 6   貓  \n",
              "  Email                      Bodyweight\n",
              "1 tcapoa8@mail.taipei.gov.tw           \n",
              "2                                      \n",
              "3 tcapoa8@mail.taipei.gov.tw           \n",
              "4 tcapoa8@mail.taipei.gov.tw           \n",
              "5 tcapoa8@mail.taipei.gov.tw           \n",
              "6 tcapoa8@mail.taipei.gov.tw           "
            ],
            "text/latex": "A data.frame: 6 × 20\n\\begin{tabular}{r|llllllllllllllllllll}\n  & AcceptNum & IsSterilization & Name & Variety & Age & ChildreAnlong & Resettlement & Sex & Note & Phone & Reason & ImageName & HairType & Build & AnimalAnlong & ChipNum & \\_id & Type & Email & Bodyweight\\\\\n  & <chr> & <chr> & <chr> & <chr> & <chr> & <chr> & <chr> & <chr> & <chr> & <chr> & <chr> & <chr> & <chr> & <chr> & <chr> & <chr> & <int> & <chr> & <chr> & <chr>\\\\\n\\hline\n\t1 & 106060601 & 未絕育 &      & 米克斯 & 成年 &  & 臺北市動物之家 收容編號106060601 & 雄 & 左剪耳 輕微脫水 精神食慾不佳                                                            & 02-87913063 & 民眾不擬續養 & http://163.29.39.183/uploads/images/medium/c0f66294-143c-4406-8714-2e6764352b13.jpg & 虎斑白 & 中 &  & 900073000086900 & 1 & 貓 & tcapoa8@mail.taipei.gov.tw & \\\\\n\t2 & 106060401 & 已絕育 &      & 米克斯 & 成年 &  &                                  & 雌 &                                                                                         &             & 民眾不擬續養 & http://163.29.39.183/uploads/images/medium/4ffa231f-3108-43c1-8ccf-b8578bdf1e1a.jpg & 黃白   & 中 &  & 900073000086481 & 2 & 貓 &                            & \\\\\n\t3 & 106060210 & 未絕育 & 俊俊 & 米克斯 & 成年 &  & 臺北市動物之家 收容編號106060210 & 雄 & 嗨\\textasciitilde{}\\textasciitilde{}我的名字叫俊俊，希望帥氣的我可以受您的青睞，快來動物之家看看我吧!\n                 & 02-87913062 & 動物管制     & http://163.29.39.183/uploads/images/medium/e68771df-747e-4544-846a-bdd6099e7f90.jpg & 黃白   & 中 &  &                 & 3 & 貓 & tcapoa8@mail.taipei.gov.tw & \\\\\n\t4 & 106060207 & 未絕育 & 小莊 & 米克斯 & 成年 &  & 臺北市動物之家 收容編號106060207 & 雄 & 哈囉\\textasciitilde{}我的名字叫小莊，目前我在動物之家生活，希望能快快找到，願意認養我的人來帶我回家!!\n & 02-87913062 & 動物管制     & http://163.29.39.183/uploads/images/medium/fd75d049-5310-4016-b1f4-71d69c4a9912.jpg & 黃     & 中 &  &                 & 4 & 貓 & tcapoa8@mail.taipei.gov.tw & \\\\\n\t5 & 106060203 & 未絕育 & 好橙 & 米克斯 & 成年 &  & 臺北市動物之家 收容編號106060203 & 雄 & 嗨\\textasciitilde{}我的名字叫好橙，害羞的我想要一個溫暖的家，您可以給我這個機會嗎?\n                    & 02-87913062 & 動物管制     & http://163.29.39.183/uploads/images/medium/2f750fef-b696-4595-8fbf-cc6adf8f72d5.jpg & 黃     & 中 &  &                 & 5 & 貓 & tcapoa8@mail.taipei.gov.tw & \\\\\n\t6 & 106053107 & 未絕育 & 歐雅 & 米克斯 & 年輕 &  & 臺北市動物之家 收容編號106053107 & 雌 & 大家好\\textasciitilde{}我的名字叫歐雅，我的個性緊張，想帶我回家，要有耐心陪伴我渡過適應期唷!            & 02-87913062 & 動物管制     & http://163.29.39.183/uploads/images/medium/1c293e5e-99db-466e-a156-ff33fef368b4.jpg & 黑     & 中 &  &                 & 6 & 貓 & tcapoa8@mail.taipei.gov.tw & \\\\\n\\end{tabular}\n",
            "text/markdown": "\nA data.frame: 6 × 20\n\n| <!--/--> | AcceptNum &lt;chr&gt; | IsSterilization &lt;chr&gt; | Name &lt;chr&gt; | Variety &lt;chr&gt; | Age &lt;chr&gt; | ChildreAnlong &lt;chr&gt; | Resettlement &lt;chr&gt; | Sex &lt;chr&gt; | Note &lt;chr&gt; | Phone &lt;chr&gt; | Reason &lt;chr&gt; | ImageName &lt;chr&gt; | HairType &lt;chr&gt; | Build &lt;chr&gt; | AnimalAnlong &lt;chr&gt; | ChipNum &lt;chr&gt; | _id &lt;int&gt; | Type &lt;chr&gt; | Email &lt;chr&gt; | Bodyweight &lt;chr&gt; |\n|---|---|---|---|---|---|---|---|---|---|---|---|---|---|---|---|---|---|---|---|---|\n| 1 | 106060601 | 未絕育 | <!----> | 米克斯 | 成年 | <!----> | 臺北市動物之家 收容編號106060601 | 雄 | 左剪耳 輕微脫水 精神食慾不佳                                                            | 02-87913063 | 民眾不擬續養 | http://163.29.39.183/uploads/images/medium/c0f66294-143c-4406-8714-2e6764352b13.jpg | 虎斑白 | 中 | <!----> | 900073000086900 | 1 | 貓 | tcapoa8@mail.taipei.gov.tw | <!----> |\n| 2 | 106060401 | 已絕育 | <!----> | 米克斯 | 成年 | <!----> | <!----> | 雌 | <!----> | <!----> | 民眾不擬續養 | http://163.29.39.183/uploads/images/medium/4ffa231f-3108-43c1-8ccf-b8578bdf1e1a.jpg | 黃白   | 中 | <!----> | 900073000086481 | 2 | 貓 | <!----> | <!----> |\n| 3 | 106060210 | 未絕育 | 俊俊 | 米克斯 | 成年 | <!----> | 臺北市動物之家 收容編號106060210 | 雄 | 嗨~~我的名字叫俊俊，希望帥氣的我可以受您的青睞，快來動物之家看看我吧!\n                 | 02-87913062 | 動物管制     | http://163.29.39.183/uploads/images/medium/e68771df-747e-4544-846a-bdd6099e7f90.jpg | 黃白   | 中 | <!----> | <!----> | 3 | 貓 | tcapoa8@mail.taipei.gov.tw | <!----> |\n| 4 | 106060207 | 未絕育 | 小莊 | 米克斯 | 成年 | <!----> | 臺北市動物之家 收容編號106060207 | 雄 | 哈囉~我的名字叫小莊，目前我在動物之家生活，希望能快快找到，願意認養我的人來帶我回家!!\n | 02-87913062 | 動物管制     | http://163.29.39.183/uploads/images/medium/fd75d049-5310-4016-b1f4-71d69c4a9912.jpg | 黃     | 中 | <!----> | <!----> | 4 | 貓 | tcapoa8@mail.taipei.gov.tw | <!----> |\n| 5 | 106060203 | 未絕育 | 好橙 | 米克斯 | 成年 | <!----> | 臺北市動物之家 收容編號106060203 | 雄 | 嗨~我的名字叫好橙，害羞的我想要一個溫暖的家，您可以給我這個機會嗎?\n                    | 02-87913062 | 動物管制     | http://163.29.39.183/uploads/images/medium/2f750fef-b696-4595-8fbf-cc6adf8f72d5.jpg | 黃     | 中 | <!----> | <!----> | 5 | 貓 | tcapoa8@mail.taipei.gov.tw | <!----> |\n| 6 | 106053107 | 未絕育 | 歐雅 | 米克斯 | 年輕 | <!----> | 臺北市動物之家 收容編號106053107 | 雌 | 大家好~我的名字叫歐雅，我的個性緊張，想帶我回家，要有耐心陪伴我渡過適應期唷!            | 02-87913062 | 動物管制     | http://163.29.39.183/uploads/images/medium/1c293e5e-99db-466e-a156-ff33fef368b4.jpg | 黑     | 中 | <!----> | <!----> | 6 | 貓 | tcapoa8@mail.taipei.gov.tw | <!----> |\n\n",
            "text/html": [
              "<table>\n",
              "<caption>A data.frame: 6 × 20</caption>\n",
              "<thead>\n",
              "\t<tr><th></th><th scope=col>AcceptNum</th><th scope=col>IsSterilization</th><th scope=col>Name</th><th scope=col>Variety</th><th scope=col>Age</th><th scope=col>ChildreAnlong</th><th scope=col>Resettlement</th><th scope=col>Sex</th><th scope=col>Note</th><th scope=col>Phone</th><th scope=col>Reason</th><th scope=col>ImageName</th><th scope=col>HairType</th><th scope=col>Build</th><th scope=col>AnimalAnlong</th><th scope=col>ChipNum</th><th scope=col>_id</th><th scope=col>Type</th><th scope=col>Email</th><th scope=col>Bodyweight</th></tr>\n",
              "\t<tr><th></th><th scope=col>&lt;chr&gt;</th><th scope=col>&lt;chr&gt;</th><th scope=col>&lt;chr&gt;</th><th scope=col>&lt;chr&gt;</th><th scope=col>&lt;chr&gt;</th><th scope=col>&lt;chr&gt;</th><th scope=col>&lt;chr&gt;</th><th scope=col>&lt;chr&gt;</th><th scope=col>&lt;chr&gt;</th><th scope=col>&lt;chr&gt;</th><th scope=col>&lt;chr&gt;</th><th scope=col>&lt;chr&gt;</th><th scope=col>&lt;chr&gt;</th><th scope=col>&lt;chr&gt;</th><th scope=col>&lt;chr&gt;</th><th scope=col>&lt;chr&gt;</th><th scope=col>&lt;int&gt;</th><th scope=col>&lt;chr&gt;</th><th scope=col>&lt;chr&gt;</th><th scope=col>&lt;chr&gt;</th></tr>\n",
              "</thead>\n",
              "<tbody>\n",
              "\t<tr><th scope=row>1</th><td>106060601</td><td>未絕育</td><td>    </td><td>米克斯</td><td>成年</td><td></td><td>臺北市動物之家 收容編號106060601</td><td>雄</td><td>左剪耳 輕微脫水 精神食慾不佳                                                           </td><td>02-87913063</td><td>民眾不擬續養</td><td>http://163.29.39.183/uploads/images/medium/c0f66294-143c-4406-8714-2e6764352b13.jpg</td><td>虎斑白</td><td>中</td><td></td><td>900073000086900</td><td>1</td><td>貓</td><td>tcapoa8@mail.taipei.gov.tw</td><td></td></tr>\n",
              "\t<tr><th scope=row>2</th><td>106060401</td><td>已絕育</td><td>    </td><td>米克斯</td><td>成年</td><td></td><td>                                </td><td>雌</td><td>                                                                                       </td><td>           </td><td>民眾不擬續養</td><td>http://163.29.39.183/uploads/images/medium/4ffa231f-3108-43c1-8ccf-b8578bdf1e1a.jpg</td><td>黃白  </td><td>中</td><td></td><td>900073000086481</td><td>2</td><td>貓</td><td>                          </td><td></td></tr>\n",
              "\t<tr><th scope=row>3</th><td>106060210</td><td>未絕育</td><td>俊俊</td><td>米克斯</td><td>成年</td><td></td><td>臺北市動物之家 收容編號106060210</td><td>雄</td><td>嗨~~我的名字叫俊俊，希望帥氣的我可以受您的青睞，快來動物之家看看我吧!\n",
              "                </td><td>02-87913062</td><td>動物管制    </td><td>http://163.29.39.183/uploads/images/medium/e68771df-747e-4544-846a-bdd6099e7f90.jpg</td><td>黃白  </td><td>中</td><td></td><td>               </td><td>3</td><td>貓</td><td>tcapoa8@mail.taipei.gov.tw</td><td></td></tr>\n",
              "\t<tr><th scope=row>4</th><td>106060207</td><td>未絕育</td><td>小莊</td><td>米克斯</td><td>成年</td><td></td><td>臺北市動物之家 收容編號106060207</td><td>雄</td><td>哈囉~我的名字叫小莊，目前我在動物之家生活，希望能快快找到，願意認養我的人來帶我回家!!\n",
              "</td><td>02-87913062</td><td>動物管制    </td><td>http://163.29.39.183/uploads/images/medium/fd75d049-5310-4016-b1f4-71d69c4a9912.jpg</td><td>黃    </td><td>中</td><td></td><td>               </td><td>4</td><td>貓</td><td>tcapoa8@mail.taipei.gov.tw</td><td></td></tr>\n",
              "\t<tr><th scope=row>5</th><td>106060203</td><td>未絕育</td><td>好橙</td><td>米克斯</td><td>成年</td><td></td><td>臺北市動物之家 收容編號106060203</td><td>雄</td><td>嗨~我的名字叫好橙，害羞的我想要一個溫暖的家，您可以給我這個機會嗎?\n",
              "                   </td><td>02-87913062</td><td>動物管制    </td><td>http://163.29.39.183/uploads/images/medium/2f750fef-b696-4595-8fbf-cc6adf8f72d5.jpg</td><td>黃    </td><td>中</td><td></td><td>               </td><td>5</td><td>貓</td><td>tcapoa8@mail.taipei.gov.tw</td><td></td></tr>\n",
              "\t<tr><th scope=row>6</th><td>106053107</td><td>未絕育</td><td>歐雅</td><td>米克斯</td><td>年輕</td><td></td><td>臺北市動物之家 收容編號106053107</td><td>雌</td><td>大家好~我的名字叫歐雅，我的個性緊張，想帶我回家，要有耐心陪伴我渡過適應期唷!           </td><td>02-87913062</td><td>動物管制    </td><td>http://163.29.39.183/uploads/images/medium/1c293e5e-99db-466e-a156-ff33fef368b4.jpg</td><td>黑    </td><td>中</td><td></td><td>               </td><td>6</td><td>貓</td><td>tcapoa8@mail.taipei.gov.tw</td><td></td></tr>\n",
              "</tbody>\n",
              "</table>\n"
            ]
          },
          "metadata": {
            "tags": []
          }
        }
      ]
    },
    {
      "cell_type": "code",
      "metadata": {
        "id": "Wwua3c28i-7K",
        "outputId": "ed440a1d-b803-471f-d026-fabed945f1d7",
        "colab": {
          "base_uri": "https://localhost:8080/",
          "height": 67
        }
      },
      "source": [
        "table(Petdata$result$results$Reason)"
      ],
      "execution_count": 20,
      "outputs": [
        {
          "output_type": "display_data",
          "data": {
            "text/plain": [
              "\n",
              "                 動物救援     動物管制 民眾不擬續養     民眾拾獲 \n",
              "          28          109          155           50           23 "
            ]
          },
          "metadata": {
            "tags": []
          }
        }
      ]
    },
    {
      "cell_type": "code",
      "metadata": {
        "id": "6FG6bkO7jJfn",
        "outputId": "5d3c6b2e-9a69-4184-de82-115e40fc6784",
        "colab": {
          "base_uri": "https://localhost:8080/",
          "height": 67
        }
      },
      "source": [
        "table(Petdata$result$results$Sex)"
      ],
      "execution_count": 21,
      "outputs": [
        {
          "output_type": "display_data",
          "data": {
            "text/plain": [
              "\n",
              " 雄  雌 \n",
              "190 175 "
            ]
          },
          "metadata": {
            "tags": []
          }
        }
      ]
    },
    {
      "cell_type": "code",
      "metadata": {
        "id": "688YFtdqjNsV",
        "outputId": "6a5af428-6ca9-4ec3-e170-0f1c916e024e",
        "colab": {
          "base_uri": "https://localhost:8080/",
          "height": 67
        }
      },
      "source": [
        "table(Petdata$result$results$IsSterilization)"
      ],
      "execution_count": 22,
      "outputs": [
        {
          "output_type": "display_data",
          "data": {
            "text/plain": [
              "\n",
              "已絕育 未絕育 \n",
              "   151    214 "
            ]
          },
          "metadata": {
            "tags": []
          }
        }
      ]
    },
    {
      "cell_type": "code",
      "metadata": {
        "id": "rj-GUSKyjQiJ",
        "outputId": "385a50c6-b28f-4d01-d287-82b460360c45",
        "colab": {
          "base_uri": "https://localhost:8080/",
          "height": 67
        }
      },
      "source": [
        "table(Petdata$result$results$Type)"
      ],
      "execution_count": 23,
      "outputs": [
        {
          "output_type": "display_data",
          "data": {
            "text/plain": [
              "\n",
              "其他   犬   貓 \n",
              "  62  187  116 "
            ]
          },
          "metadata": {
            "tags": []
          }
        }
      ]
    }
  ]
}