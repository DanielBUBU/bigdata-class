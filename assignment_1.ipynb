{
  "nbformat": 4,
  "nbformat_minor": 0,
  "metadata": {
    "colab": {
      "name": "assignment 1",
      "provenance": [],
      "collapsed_sections": [],
      "include_colab_link": true
    },
    "kernelspec": {
      "name": "ir",
      "display_name": "R"
    }
  },
  "cells": [
    {
      "cell_type": "markdown",
      "metadata": {
        "id": "view-in-github",
        "colab_type": "text"
      },
      "source": [
        "<a href=\"https://colab.research.google.com/github/DanielBUBU/bigdata-class/blob/master/assignment_1.ipynb\" target=\"_parent\"><img src=\"https://colab.research.google.com/assets/colab-badge.svg\" alt=\"Open In Colab\"/></a>"
      ]
    },
    {
      "cell_type": "code",
      "metadata": {
        "id": "gJ8VjMBAWjlb",
        "colab_type": "code",
        "colab": {}
      },
      "source": [
        "my_h <- 1.79"
      ],
      "execution_count": 2,
      "outputs": []
    },
    {
      "cell_type": "code",
      "metadata": {
        "id": "9tKQwNM0YzZc",
        "colab_type": "code",
        "colab": {}
      },
      "source": [
        "my_w <- 53"
      ],
      "execution_count": 5,
      "outputs": []
    },
    {
      "cell_type": "code",
      "metadata": {
        "id": "fdvK3JgjZAvI",
        "colab_type": "code",
        "colab": {}
      },
      "source": [
        "first_name <- \"梁育銓\""
      ],
      "execution_count": 14,
      "outputs": []
    },
    {
      "cell_type": "code",
      "metadata": {
        "id": "2_gXxHT-ZQPh",
        "colab_type": "code",
        "colab": {}
      },
      "source": [
        "BMI = my_w/(my_h*my_h)"
      ],
      "execution_count": 11,
      "outputs": []
    },
    {
      "cell_type": "code",
      "metadata": {
        "id": "tZK4qOaSZvGl",
        "colab_type": "code",
        "colab": {
          "base_uri": "https://localhost:8080/",
          "height": 34
        },
        "outputId": "7b095e8d-1f50-4838-b987-dff09aa45a74"
      },
      "source": [
        "BMI"
      ],
      "execution_count": 12,
      "outputs": [
        {
          "output_type": "display_data",
          "data": {
            "text/plain": [
              "[1] 16.54131"
            ],
            "text/latex": "16.5413064511095",
            "text/markdown": "16.5413064511095",
            "text/html": [
              "16.5413064511095"
            ]
          },
          "metadata": {
            "tags": []
          }
        }
      ]
    },
    {
      "cell_type": "code",
      "metadata": {
        "id": "URX3FbwIbOMC",
        "colab_type": "code",
        "colab": {
          "base_uri": "https://localhost:8080/",
          "height": 34
        },
        "outputId": "b4b1fba8-f21b-4047-ee24-b8dd95d4bebe"
      },
      "source": [
        "paste0(\"我是\",first_name,\"我的身高\",my_h,\"公尺，我的體重\",my_w,\"公斤，我的BMI\",BMI)"
      ],
      "execution_count": 15,
      "outputs": [
        {
          "output_type": "display_data",
          "data": {
            "text/plain": [
              "[1] \"我是梁育銓我的身高1.79公尺，我的體重53公斤，我的BMI16.5413064511095\""
            ],
            "text/latex": "'我是梁育銓我的身高1.79公尺，我的體重53公斤，我的BMI16.5413064511095'",
            "text/markdown": "'我是梁育銓我的身高1.79公尺，我的體重53公斤，我的BMI16.5413064511095'",
            "text/html": [
              "'我是梁育銓我的身高1.79公尺，我的體重53公斤，我的BMI16.5413064511095'"
            ]
          },
          "metadata": {
            "tags": []
          }
        }
      ]
    }
  ]
}